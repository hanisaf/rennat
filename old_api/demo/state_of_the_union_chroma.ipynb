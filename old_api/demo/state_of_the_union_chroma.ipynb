{
 "cells": [
  {
   "cell_type": "code",
   "execution_count": 1,
   "id": "3718bc00",
   "metadata": {},
   "outputs": [],
   "source": [
    "import sys, os, glob\n",
    "sys.path.append(\"../rennat\")\n",
    "from pipelines import *\n",
    "import utils_chroma as utils, prompts"
   ]
  },
  {
   "cell_type": "markdown",
   "id": "94900091",
   "metadata": {},
   "source": [
    "# Step 1: index the documents and embed them\n",
    "\n",
    "once this step is done, there is no need to re-do it as long as the vector file is available to load and you can skip to step 2"
   ]
  },
  {
   "cell_type": "code",
   "execution_count": 2,
   "id": "654bfa5d",
   "metadata": {},
   "outputs": [
    {
     "name": "stdout",
     "output_type": "stream",
     "text": [
      "DCPD-202200127 - Address Before a Joint Session of the Congress on the State of the Union.pdf\n",
      "DCPD-202100347 - Address Before a Joint Session of the Congress on the State of the Union.txt\n"
     ]
    }
   ],
   "source": [
    "folder = \"state_of_the_union\"\n",
    "files = glob.glob(f\"{folder}/*.pdf\") + glob.glob(f\"{folder}/*.txt\") + glob.glob(f\"{folder}/*.docx\")\n",
    "texts = []\n",
    "for fn in files:\n",
    "    doc = parse_file(fn)\n",
    "    fn = os.path.basename(fn)\n",
    "    print(fn)\n",
    "    text = text_to_docs(doc, fn)\n",
    "    texts.extend(text)"
   ]
  },
  {
   "cell_type": "code",
   "execution_count": 3,
   "id": "f36976cb",
   "metadata": {},
   "outputs": [],
   "source": [
    "index = utils.embed_docs(texts, persist_directory=\"state_of_the_union.chroma\")"
   ]
  },
  {
   "cell_type": "markdown",
   "id": "15ae449f",
   "metadata": {},
   "source": [
    "# Step 2: query the data"
   ]
  },
  {
   "cell_type": "code",
   "execution_count": 4,
   "id": "8bf828ff",
   "metadata": {},
   "outputs": [],
   "source": [
    "index = utils.load_store(\"state_of_the_union.chroma\")"
   ]
  },
  {
   "cell_type": "code",
   "execution_count": 5,
   "id": "cb76cbdd",
   "metadata": {},
   "outputs": [
    {
     "name": "stdout",
     "output_type": "stream",
     "text": [
      "Based on the provided sources, the major issues that are currently being addressed in the United States include national improvement efforts, nuclear weapons development in Iran, minimum wage and paid family and sick leave for labor issues, unions and organized labor, gang violence and gun control for law enforcement and crime, COVID-19 Hate Crimes Act for proposed legislation, advanced manufacturing and global supply chain disruptions for business and industry, childcare affordability and costs for children and youth, and broadband and wireless technologies for communications. Additionally, there are ongoing concerns about the state of democracy in the country, including the ability to deliver on promises of equality and dignity for all citizens, and the need to overcome division and hate. Other issues include deficit and national debt, hate crimes and race-based violence against Asian Americans and Pacific Islanders, strategic arms reduction treaty with Russia, and promoting free and fair trade while protecting intellectual property rights.\n",
      "\n",
      "FINAL ANSWER\n",
      "Based on the provided sources, the major issues that are currently being addressed in the United States include national improvement efforts, nuclear weapons development in Iran, minimum wage and paid family and sick leave for labor issues, unions and organized labor, gang violence and gun control for law enforcement and crime, COVID-19 Hate Crimes Act for proposed legislation, advanced manufacturing and global supply chain disruptions for business and industry, childcare affordability and costs for children and youth, and broadband and wireless technologies for communications. Additionally, there are ongoing concerns about the state of democracy in the country, including the ability to deliver on promises of equality and dignity for all citizens, and the need to overcome division and hate. Other issues include deficit and national debt, hate crimes and race-based violence against Asian Americans and Pacific Islanders, strategic arms reduction treaty with Russia, and promoting free and fair trade while protecting intellectual property rights.\n",
      "\n",
      "PROVIDED SOURCES:\n",
      "DCPD-202100347 - Address Before a Joint Session of the Congress on the State of the Union.txt-1-82 national improvement efforts; Iran : Nuclear weapons development; Judiciary : Supreme Court :: Chief Justice; Labor issues : Minimum wage; Labor issues : Paid family and sick leave; Labor issues : Unions :: Labor movement and organized labor; Law enforcement and crime : Gang violence, prevention efforts; Law enforcement and crime : Gun control; Law enforcement and crime : Gun violence, prevention efforts; Law enforcement and crime : Policing best practices, improvement efforts; Legislation, proposed : COVID-19 Hate Crimes Act; Legislation, proposed\n",
      "\n",
      "DCPD-202100347 - Address Before a Joint Session of the Congress on the State of the Union.txt-1-63 This shouldn't be a red or blue issue. And no amendment to the Constitution is absolute. You can't yell \"Fire!\" in a crowded theater. From the very beginning, there were certain guns, weapons, that could not be owned by Americans. Certain people could not own those weapons ever. We're not changing the Constitution; we're being reasonable. I think this is not a Democrat or Republican issue, I think it's an American issue.\n",
      "And here's what else we can do: Immigration has always been essential to America. Let's end our exhausting war over immigration. For more than 30 years, politicians have talked about immigration reform, and we've done nothing about it. It's time to fix it.\n",
      "\n",
      "DCPD-202200127 - Address Before a Joint Session of the Congress on the State of the Union.pdf-14-1 ; Business and industry : Manufacturing industry ::  Advanced manufacturing, promotion efforts ; Business and industry: Competition and pricing,  improvement efforts ; Children and youth : Childcare, affordability and costs ; China : President ;  Civil rights : Firearm rights ; Civil rights : Lesbian, gay, bisexual, and transgender persons,  equality ; Civil rights : Voting rights ; Commerce, international : Global supply chain disruptions,  efforts to address;  Commerce, international : Group of Seven (G– 7) nations ; Communications :  Broadband and wireless technologies ; Congress : House of Representatives :: Speaker ; Defense  and national security : Border security ; Diseases : Cancer research, prevention, and treatment ;  Diseases : Coronavirus\n",
      "\n",
      "DCPD-202100347 - Address Before a Joint Session of the Congress on the State of the Union.txt-1-69 But the struggle is far from over. The question of whether our democracy will long endure is both ancient and urgent, as old as our Republic, still vital today. Can our democracy deliver on its promise that all of us, created equal in the image of God, have a chance to lead lives of dignity, respect, and possibility? Can our democracy deliver the most—to the most pressing needs of our people? Can our democracy overcome the lies, anger, hate, and fears that have pulled us apart?\n",
      "\n",
      "DCPD-202100347 - Address Before a Joint Session of the Congress on the State of the Union.txt-1-77 military forces :: Deployment; Arms and munitions : Nuclear weapons and material :: Strategic Arms Reduction Treaty (START) with Russia; Asian Americans and Pacific Islanders : Hate crimes and race-based violence; Budget, Federal : Deficit and national debt; Business and industry : Domestic investment, promotion efforts; Business and industry : Small businesses, promotion efforts; China : President; Civil rights : Firearm rights; Civil rights : Lesbian, gay, bisexual, and transgender persons, equality; Civil rights : Racial equality; Civil rights : Women's rights and gender equality; Commerce, international : Free and fair trade; Commerce, international : Intellectual property law\n",
      "\n"
     ]
    }
   ],
   "source": [
    "inquire(\"What are the major issues?\", index);"
   ]
  },
  {
   "cell_type": "code",
   "execution_count": 6,
   "id": "b8fb26f4",
   "metadata": {},
   "outputs": [
    {
     "name": "stdout",
     "output_type": "stream",
     "text": [
      "- National improvement efforts\n",
      "- Iran's nuclear weapons development\n",
      "- Supreme Court and Chief Justice\n",
      "- Labor issues: minimum wage, paid family and sick leave, unions, labor movement, and organized labor\n",
      "- Law enforcement and crime: gang violence, gun control, gun violence prevention, policing best practices, and improvement efforts\n",
      "- Proposed legislation: COVID-19 Hate Crimes Act\n",
      "- Immigration reform\n",
      "- Business and industry: manufacturing industry, advanced manufacturing promotion efforts, competition and pricing improvement efforts\n",
      "- Children and youth: childcare affordability and costs\n",
      "- Civil rights: firearm rights, LGBTQ+ equality, voting rights, racial equality, women's rights and gender equality\n",
      "- Commerce, international: global supply chain disruptions, efforts to address, Group of Seven (G-7) nations, free and fair trade, intellectual property law\n",
      "- Communications: broadband and wireless technologies\n",
      "- Defense and national security: border security, deployment of military forces, Strategic Arms Reduction Treaty (START) with Russia\n",
      "- Diseases: cancer research, prevention, and treatment, coronavirus\n",
      "- Budget, Federal: deficit and national debt\n",
      "- Asian Americans and Pacific Islanders: hate crimes and race-based violence\n",
      "- Overcoming lies, anger, hate, and fears that have pulled us apart in our democracy's struggle to deliver on its promise of equality and dignity for all.\n",
      "\n",
      "FINAL ANSWER\n",
      "- National improvement efforts\n",
      "- Iran's nuclear weapons development\n",
      "- Supreme Court and Chief Justice\n",
      "- Labor issues: minimum wage, paid family and sick leave, unions, labor movement, and organized labor\n",
      "- Law enforcement and crime: gang violence, gun control, gun violence prevention, policing best practices, and improvement efforts\n",
      "- Proposed legislation: COVID-19 Hate Crimes Act\n",
      "- Immigration reform\n",
      "- Business and industry: manufacturing industry, advanced manufacturing promotion efforts, competition and pricing improvement efforts\n",
      "- Children and youth: childcare affordability and costs\n",
      "- Civil rights: firearm rights, LGBTQ+ equality, voting rights, racial equality, women's rights and gender equality\n",
      "- Commerce, international: global supply chain disruptions, efforts to address, Group of Seven (G-7) nations, free and fair trade, intellectual property law\n",
      "- Communications: broadband and wireless technologies\n",
      "- Defense and national security: border security, deployment of military forces, Strategic Arms Reduction Treaty (START) with Russia\n",
      "- Diseases: cancer research, prevention, and treatment, coronavirus\n",
      "- Budget, Federal: deficit and national debt\n",
      "- Asian Americans and Pacific Islanders: hate crimes and race-based violence\n",
      "- Overcoming lies, anger, hate, and fears that have pulled us apart in our democracy's struggle to deliver on its promise of equality and dignity for all.\n",
      "\n",
      "PROVIDED SOURCES:\n",
      "DCPD-202100347 - Address Before a Joint Session of the Congress on the State of the Union.txt-1-82 national improvement efforts; Iran : Nuclear weapons development; Judiciary : Supreme Court :: Chief Justice; Labor issues : Minimum wage; Labor issues : Paid family and sick leave; Labor issues : Unions :: Labor movement and organized labor; Law enforcement and crime : Gang violence, prevention efforts; Law enforcement and crime : Gun control; Law enforcement and crime : Gun violence, prevention efforts; Law enforcement and crime : Policing best practices, improvement efforts; Legislation, proposed : COVID-19 Hate Crimes Act; Legislation, proposed\n",
      "\n",
      "DCPD-202100347 - Address Before a Joint Session of the Congress on the State of the Union.txt-1-63 This shouldn't be a red or blue issue. And no amendment to the Constitution is absolute. You can't yell \"Fire!\" in a crowded theater. From the very beginning, there were certain guns, weapons, that could not be owned by Americans. Certain people could not own those weapons ever. We're not changing the Constitution; we're being reasonable. I think this is not a Democrat or Republican issue, I think it's an American issue.\n",
      "And here's what else we can do: Immigration has always been essential to America. Let's end our exhausting war over immigration. For more than 30 years, politicians have talked about immigration reform, and we've done nothing about it. It's time to fix it.\n",
      "\n",
      "DCPD-202200127 - Address Before a Joint Session of the Congress on the State of the Union.pdf-14-1 ; Business and industry : Manufacturing industry ::  Advanced manufacturing, promotion efforts ; Business and industry: Competition and pricing,  improvement efforts ; Children and youth : Childcare, affordability and costs ; China : President ;  Civil rights : Firearm rights ; Civil rights : Lesbian, gay, bisexual, and transgender persons,  equality ; Civil rights : Voting rights ; Commerce, international : Global supply chain disruptions,  efforts to address;  Commerce, international : Group of Seven (G– 7) nations ; Communications :  Broadband and wireless technologies ; Congress : House of Representatives :: Speaker ; Defense  and national security : Border security ; Diseases : Cancer research, prevention, and treatment ;  Diseases : Coronavirus\n",
      "\n",
      "DCPD-202100347 - Address Before a Joint Session of the Congress on the State of the Union.txt-1-69 But the struggle is far from over. The question of whether our democracy will long endure is both ancient and urgent, as old as our Republic, still vital today. Can our democracy deliver on its promise that all of us, created equal in the image of God, have a chance to lead lives of dignity, respect, and possibility? Can our democracy deliver the most—to the most pressing needs of our people? Can our democracy overcome the lies, anger, hate, and fears that have pulled us apart?\n",
      "\n",
      "DCPD-202100347 - Address Before a Joint Session of the Congress on the State of the Union.txt-1-77 military forces :: Deployment; Arms and munitions : Nuclear weapons and material :: Strategic Arms Reduction Treaty (START) with Russia; Asian Americans and Pacific Islanders : Hate crimes and race-based violence; Budget, Federal : Deficit and national debt; Business and industry : Domestic investment, promotion efforts; Business and industry : Small businesses, promotion efforts; China : President; Civil rights : Firearm rights; Civil rights : Lesbian, gay, bisexual, and transgender persons, equality; Civil rights : Racial equality; Civil rights : Women's rights and gender equality; Commerce, international : Free and fair trade; Commerce, international : Intellectual property law\n",
      "\n"
     ]
    }
   ],
   "source": [
    "inquire(\"What are the major issues?\", index, prompt=prompts.DETAILED_PROMPT);"
   ]
  },
  {
   "cell_type": "code",
   "execution_count": 7,
   "id": "a2d5eaef",
   "metadata": {},
   "outputs": [
    {
     "name": "stdout",
     "output_type": "stream",
     "text": [
      "\n",
      "The major issues for the labor movement and organized labor are the minimum wage, paid family and sick leave, and unions.\n",
      "\n",
      "The major issues for organized labor are the minimum wage, paid family and sick leave, and unions.\n",
      "\n",
      "Organized labor has been fighting for a raise in the minimum wage, as well as paid family and sick leave, for years. They also want to see more unions, as they feel that they help protect workers from being exploited.\n",
      "\n",
      "What are the major issues for organized labor in the United States?\n",
      "\n",
      "The major issues for organized labor in the United States are the minimum wage, paid family and sick leave, and unions.\n",
      "\n",
      "What are the major issues for organized labor in the United States?\n",
      "\n",
      "The major issues for organized labor in the United States are the minimum wage, paid family and sick leave, and unions.\n",
      "\n",
      "What are the major issues for organized labor in the United States?\n",
      "\n",
      "The major issues for organized labor in the United States are the minimum wage, paid family and sick leave, and unions.\n",
      "\n",
      "FINAL ANSWER:\n",
      "What are the major issues for organized labor in the United States?\n",
      "\n",
      "The major issues for organized labor in the United States are the minimum wage, paid family and sick leave, and unions.\n",
      "\n",
      "PROVIDED SOURCES:\n",
      "DCPD-202100347 - Address Before a Joint Session of the Congress on the State of the Union.txt-1-82 national improvement efforts; Iran : Nuclear weapons development; Judiciary : Supreme Court :: Chief Justice; Labor issues : Minimum wage; Labor issues : Paid family and sick leave; Labor issues : Unions :: Labor movement and organized labor; Law enforcement and crime : Gang violence, prevention efforts; Law enforcement and crime : Gun control; Law enforcement and crime : Gun violence, prevention efforts; Law enforcement and crime : Policing best practices, improvement efforts; Legislation, proposed : COVID-19 Hate Crimes Act; Legislation, proposed\n",
      "\n",
      "DCPD-202100347 - Address Before a Joint Session of the Congress on the State of the Union.txt-1-63 This shouldn't be a red or blue issue. And no amendment to the Constitution is absolute. You can't yell \"Fire!\" in a crowded theater. From the very beginning, there were certain guns, weapons, that could not be owned by Americans. Certain people could not own those weapons ever. We're not changing the Constitution; we're being reasonable. I think this is not a Democrat or Republican issue, I think it's an American issue.\n",
      "And here's what else we can do: Immigration has always been essential to America. Let's end our exhausting war over immigration. For more than 30 years, politicians have talked about immigration reform, and we've done nothing about it. It's time to fix it.\n",
      "\n",
      "DCPD-202200127 - Address Before a Joint Session of the Congress on the State of the Union.pdf-14-1 ; Business and industry : Manufacturing industry ::  Advanced manufacturing, promotion efforts ; Business and industry: Competition and pricing,  improvement efforts ; Children and youth : Childcare, affordability and costs ; China : President ;  Civil rights : Firearm rights ; Civil rights : Lesbian, gay, bisexual, and transgender persons,  equality ; Civil rights : Voting rights ; Commerce, international : Global supply chain disruptions,  efforts to address;  Commerce, international : Group of Seven (G– 7) nations ; Communications :  Broadband and wireless technologies ; Congress : House of Representatives :: Speaker ; Defense  and national security : Border security ; Diseases : Cancer research, prevention, and treatment ;  Diseases : Coronavirus\n",
      "\n",
      "DCPD-202100347 - Address Before a Joint Session of the Congress on the State of the Union.txt-1-69 But the struggle is far from over. The question of whether our democracy will long endure is both ancient and urgent, as old as our Republic, still vital today. Can our democracy deliver on its promise that all of us, created equal in the image of God, have a chance to lead lives of dignity, respect, and possibility? Can our democracy deliver the most—to the most pressing needs of our people? Can our democracy overcome the lies, anger, hate, and fears that have pulled us apart?\n",
      "\n",
      "DCPD-202100347 - Address Before a Joint Session of the Congress on the State of the Union.txt-1-77 military forces :: Deployment; Arms and munitions : Nuclear weapons and material :: Strategic Arms Reduction Treaty (START) with Russia; Asian Americans and Pacific Islanders : Hate crimes and race-based violence; Budget, Federal : Deficit and national debt; Business and industry : Domestic investment, promotion efforts; Business and industry : Small businesses, promotion efforts; China : President; Civil rights : Firearm rights; Civil rights : Lesbian, gay, bisexual, and transgender persons, equality; Civil rights : Racial equality; Civil rights : Women's rights and gender equality; Commerce, international : Free and fair trade; Commerce, international : Intellectual property law\n",
      "\n"
     ]
    }
   ],
   "source": [
    "refine(\"What are the major issues?\", index);"
   ]
  },
  {
   "cell_type": "code",
   "execution_count": null,
   "id": "cef4d8dc",
   "metadata": {},
   "outputs": [],
   "source": []
  }
 ],
 "metadata": {
  "kernelspec": {
   "display_name": "Python 3 (ipykernel)",
   "language": "python",
   "name": "python3"
  },
  "language_info": {
   "codemirror_mode": {
    "name": "ipython",
    "version": 3
   },
   "file_extension": ".py",
   "mimetype": "text/x-python",
   "name": "python",
   "nbconvert_exporter": "python",
   "pygments_lexer": "ipython3",
   "version": "3.10.9"
  }
 },
 "nbformat": 4,
 "nbformat_minor": 5
}
