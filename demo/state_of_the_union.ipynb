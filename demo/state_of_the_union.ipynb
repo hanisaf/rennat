{
 "cells": [
  {
   "cell_type": "code",
   "execution_count": 1,
   "id": "1f4aa2c0",
   "metadata": {},
   "outputs": [],
   "source": [
    "%load_ext autoreload\n",
    "%autoreload 2"
   ]
  },
  {
   "cell_type": "code",
   "execution_count": 2,
   "id": "3718bc00",
   "metadata": {},
   "outputs": [],
   "source": [
    "import sys, os, glob\n",
    "sys.path.append(\"../rennat\")\n",
    "from index import Index"
   ]
  },
  {
   "cell_type": "markdown",
   "id": "94900091",
   "metadata": {},
   "source": [
    "# Step 1: index the documents and embed them\n",
    "\n",
    "once this step is done, there is no need to re-do it as long as the vector file is available to load and you can skip to step 2"
   ]
  },
  {
   "cell_type": "code",
   "execution_count": 5,
   "id": "654bfa5d",
   "metadata": {},
   "outputs": [],
   "source": [
    "folder = \"state_of_the_union\"\n",
    "files = glob.glob(f\"{folder}/*.pdf\") + glob.glob(f\"{folder}/*.txt\") + glob.glob(f\"{folder}/*.docx\")\n",
    "files = [os.path.abspath(f) for f in files]"
   ]
  },
  {
   "cell_type": "code",
   "execution_count": 6,
   "id": "23deeebb",
   "metadata": {},
   "outputs": [
    {
     "name": "stderr",
     "output_type": "stream",
     "text": [
      "Using embedded DuckDB with persistence: data will be stored in: state_of_the_union_index\n",
      "No embedding_function provided, using default embedding function: SentenceTransformerEmbeddingFunction\n"
     ]
    },
    {
     "data": {
      "application/vnd.jupyter.widget-view+json": {
       "model_id": "034a84d321ae47afba1ee803dd6318ef",
       "version_major": 2,
       "version_minor": 0
      },
      "text/plain": [
       "Downloading (…)e9125/.gitattributes:   0%|          | 0.00/1.18k [00:00<?, ?B/s]"
      ]
     },
     "metadata": {},
     "output_type": "display_data"
    },
    {
     "data": {
      "application/vnd.jupyter.widget-view+json": {
       "model_id": "46c184c8e83745688bcad22101644bdf",
       "version_major": 2,
       "version_minor": 0
      },
      "text/plain": [
       "Downloading (…)_Pooling/config.json:   0%|          | 0.00/190 [00:00<?, ?B/s]"
      ]
     },
     "metadata": {},
     "output_type": "display_data"
    },
    {
     "data": {
      "application/vnd.jupyter.widget-view+json": {
       "model_id": "cf86bfb31dec4719a22e88814f97beed",
       "version_major": 2,
       "version_minor": 0
      },
      "text/plain": [
       "Downloading (…)7e55de9125/README.md:   0%|          | 0.00/10.6k [00:00<?, ?B/s]"
      ]
     },
     "metadata": {},
     "output_type": "display_data"
    },
    {
     "data": {
      "application/vnd.jupyter.widget-view+json": {
       "model_id": "6a063d72e94c4d9fac2d34003372b7b9",
       "version_major": 2,
       "version_minor": 0
      },
      "text/plain": [
       "Downloading (…)55de9125/config.json:   0%|          | 0.00/612 [00:00<?, ?B/s]"
      ]
     },
     "metadata": {},
     "output_type": "display_data"
    },
    {
     "data": {
      "application/vnd.jupyter.widget-view+json": {
       "model_id": "d20c0aa9cd5c456191f35f2e79710a5f",
       "version_major": 2,
       "version_minor": 0
      },
      "text/plain": [
       "Downloading (…)ce_transformers.json:   0%|          | 0.00/116 [00:00<?, ?B/s]"
      ]
     },
     "metadata": {},
     "output_type": "display_data"
    },
    {
     "data": {
      "application/vnd.jupyter.widget-view+json": {
       "model_id": "d6b3c45358ea4cc0abf03ac9803050b9",
       "version_major": 2,
       "version_minor": 0
      },
      "text/plain": [
       "Downloading (…)125/data_config.json:   0%|          | 0.00/39.3k [00:00<?, ?B/s]"
      ]
     },
     "metadata": {},
     "output_type": "display_data"
    },
    {
     "data": {
      "application/vnd.jupyter.widget-view+json": {
       "model_id": "2af70de4d8c446df84c7761039aae312",
       "version_major": 2,
       "version_minor": 0
      },
      "text/plain": [
       "Downloading pytorch_model.bin:   0%|          | 0.00/90.9M [00:00<?, ?B/s]"
      ]
     },
     "metadata": {},
     "output_type": "display_data"
    },
    {
     "data": {
      "application/vnd.jupyter.widget-view+json": {
       "model_id": "d6f616b93ac744819e1ba7f62f158667",
       "version_major": 2,
       "version_minor": 0
      },
      "text/plain": [
       "Downloading (…)nce_bert_config.json:   0%|          | 0.00/53.0 [00:00<?, ?B/s]"
      ]
     },
     "metadata": {},
     "output_type": "display_data"
    },
    {
     "data": {
      "application/vnd.jupyter.widget-view+json": {
       "model_id": "227423bd631646a4973d442d3f8c5ade",
       "version_major": 2,
       "version_minor": 0
      },
      "text/plain": [
       "Downloading (…)cial_tokens_map.json:   0%|          | 0.00/112 [00:00<?, ?B/s]"
      ]
     },
     "metadata": {},
     "output_type": "display_data"
    },
    {
     "data": {
      "application/vnd.jupyter.widget-view+json": {
       "model_id": "57050800a5704dcb85d8d4e3aec89641",
       "version_major": 2,
       "version_minor": 0
      },
      "text/plain": [
       "Downloading (…)e9125/tokenizer.json:   0%|          | 0.00/466k [00:00<?, ?B/s]"
      ]
     },
     "metadata": {},
     "output_type": "display_data"
    },
    {
     "data": {
      "application/vnd.jupyter.widget-view+json": {
       "model_id": "7c31cce190af4994a4f862488cbb622b",
       "version_major": 2,
       "version_minor": 0
      },
      "text/plain": [
       "Downloading (…)okenizer_config.json:   0%|          | 0.00/350 [00:00<?, ?B/s]"
      ]
     },
     "metadata": {},
     "output_type": "display_data"
    },
    {
     "data": {
      "application/vnd.jupyter.widget-view+json": {
       "model_id": "0729c67a69574f43823a69dbc66e766b",
       "version_major": 2,
       "version_minor": 0
      },
      "text/plain": [
       "Downloading (…)9125/train_script.py:   0%|          | 0.00/13.2k [00:00<?, ?B/s]"
      ]
     },
     "metadata": {},
     "output_type": "display_data"
    },
    {
     "data": {
      "application/vnd.jupyter.widget-view+json": {
       "model_id": "6b1c56e22feb433d9ec83886fd6376d8",
       "version_major": 2,
       "version_minor": 0
      },
      "text/plain": [
       "Downloading (…)7e55de9125/vocab.txt:   0%|          | 0.00/232k [00:00<?, ?B/s]"
      ]
     },
     "metadata": {},
     "output_type": "display_data"
    },
    {
     "data": {
      "application/vnd.jupyter.widget-view+json": {
       "model_id": "0f43a12f251c48f98990cb10e8b2411b",
       "version_major": 2,
       "version_minor": 0
      },
      "text/plain": [
       "Downloading (…)5de9125/modules.json:   0%|          | 0.00/349 [00:00<?, ?B/s]"
      ]
     },
     "metadata": {},
     "output_type": "display_data"
    },
    {
     "name": "stdout",
     "output_type": "stream",
     "text": [
      "Ignoring  0  existing files.\n"
     ]
    },
    {
     "name": "stderr",
     "output_type": "stream",
     "text": [
      "100%|█████████████████████████████████████████████| 2/2 [00:00<00:00,  4.00it/s]\n"
     ]
    }
   ],
   "source": [
    "index = Index(index_file=\"state_of_the_union_index\", collection_name=\"state_of_the_union\")\n",
    "index.add_files(files)"
   ]
  },
  {
   "cell_type": "markdown",
   "id": "15ae449f",
   "metadata": {},
   "source": [
    "# Step 2: query the data"
   ]
  },
  {
   "cell_type": "code",
   "execution_count": 3,
   "id": "b5714233",
   "metadata": {},
   "outputs": [
    {
     "name": "stderr",
     "output_type": "stream",
     "text": [
      "No embedding_function provided, using default embedding function: DefaultEmbeddingFunction https://huggingface.co/sentence-transformers/all-MiniLM-L6-v2\n"
     ]
    }
   ],
   "source": [
    "index = Index(index_file=\"state_of_the_union_index\", collection_name=\"state_of_the_union\")"
   ]
  },
  {
   "cell_type": "code",
   "execution_count": 8,
   "id": "5dba578d",
   "metadata": {
    "scrolled": false
   },
   "outputs": [
    {
     "name": "stderr",
     "output_type": "stream",
     "text": [
      "No embedding_function provided, using default embedding function: SentenceTransformerEmbeddingFunction\n"
     ]
    },
    {
     "name": "stdout",
     "output_type": "stream",
     "text": [
      "The major issues addressed in the provided sources include national improvement efforts, nuclear weapons development in Iran, Supreme Court and Chief Justice, labor issues such as minimum wage, paid family and sick leave, unions, and job creation, law enforcement and crime prevention efforts including gang violence, gun control, and policing best practices, proposed legislation such as the COVID-19 Hate Crimes Act, manufacturing industry promotion efforts, competition and pricing improvement efforts, childcare affordability and costs, civil rights for firearm rights, LGBT persons, and voting rights, global supply chain disruptions, broadband and wireless technologies, border security, cancer research and treatment, opioid epidemic, household income and wages, poverty, and strengthening efforts, early childhood education programs, pathway to citizenship for dreamers and essential workers, protecting women's rights, medical equipment and supplies, mental health programs and services, prescription drugs affordability and costs, research and development, deployment and environmental exposures in war zones for servicemembers, deficit and national debt, automobile industry strengthening efforts, foreign investment in the US, global competitiveness in education, voter participation, alternative and renewable energy sources and technologies, climate change, and homecare for aging parents and loved ones with disabilities."
     ]
    },
    {
     "data": {
      "text/plain": [
       "(\"The major issues addressed in the provided sources include national improvement efforts, nuclear weapons development in Iran, Supreme Court and Chief Justice, labor issues such as minimum wage, paid family and sick leave, unions, and job creation, law enforcement and crime prevention efforts including gang violence, gun control, and policing best practices, proposed legislation such as the COVID-19 Hate Crimes Act, manufacturing industry promotion efforts, competition and pricing improvement efforts, childcare affordability and costs, civil rights for firearm rights, LGBT persons, and voting rights, global supply chain disruptions, broadband and wireless technologies, border security, cancer research and treatment, opioid epidemic, household income and wages, poverty, and strengthening efforts, early childhood education programs, pathway to citizenship for dreamers and essential workers, protecting women's rights, medical equipment and supplies, mental health programs and services, prescription drugs affordability and costs, research and development, deployment and environmental exposures in war zones for servicemembers, deficit and national debt, automobile industry strengthening efforts, foreign investment in the US, global competitiveness in education, voter participation, alternative and renewable energy sources and technologies, climate change, and homecare for aging parents and loved ones with disabilities.\",\n",
       " ['DCPD-202100347 - Address Before a Joint Session of the Congress on the State of the Union.txt',\n",
       "  'DCPD-202200127 - Address Before a Joint Session of the Congress on the State of the Union.pdf'],\n",
       " [Document(page_content='national improvement efforts; Iran : Nuclear weapons development; Judiciary : Supreme Court :: Chief Justice; Labor issues : Minimum wage; Labor issues : Paid family and sick leave; Labor issues : Unions :: Labor movement and organized labor; Law enforcement and crime : Gang violence, prevention efforts; Law enforcement and crime : Gun control; Law enforcement and crime : Gun violence, prevention efforts; Law enforcement and crime : Policing best practices, improvement efforts; Legislation, proposed : COVID-19 Hate Crimes Act; Legislation, proposed', metadata={'name': 'DCPD-202100347 - Address Before a Joint Session of the Congress on the State of the Union.txt', 'page': 1, 'chunk': 82, 'source': 'DCPD-202100347 - Address Before a Joint Session of the Congress on the State of the Union.txt-1-82'}),\n",
       "  Document(page_content='; Business and industry : Manufacturing industry ::  Advanced manufacturing, promotion efforts ; Business and industry: Competition and pricing,  improvement efforts ; Children and youth : Childcare, affordability and costs ; China : President ;  Civil rights : Firearm rights ; Civil rights : Lesbian, gay, bisexual, and transgender persons,  equality ; Civil rights : Voting rights ; Commerce, international : Global supply chain disruptions,  efforts to address;  Commerce, international : Group of Seven (G– 7) nations ; Communications :  Broadband and wireless technologies ; Congress : House of Representatives :: Speaker ; Defense  and national security : Border security ; Diseases : Cancer research, prevention, and treatment ;  Diseases : Coronavirus', metadata={'name': 'DCPD-202200127 - Address Before a Joint Session of the Congress on the State of the Union.pdf', 'page': 14, 'chunk': 1, 'source': 'DCPD-202200127 - Address Before a Joint Session of the Congress on the State of the Union.pdf-14-1'}),\n",
       "  Document(page_content='domestic prevention efforts;  Drug abuse and trafficking : Illegal drugs,  interdiction efforts ; Drug abuse and trafficking : Opioid epidemic, efforts to combat ; Economy,  national : Improvement ; Economy, national : Inflation ; Economy, national : Strengthening  efforts ; Education : Postsecondary education :: Historically Black Colleges and Universities;   Employment and unemployment : Job creation and growth;  Energy : Gasoline, oil, and natural  gas costs;  Energy : Infrastructure and grid improvements ; Environment : Lead service lines,  replacement efforts;  Foreign policy, U', metadata={'name': 'DCPD-202200127 - Address Before a Joint Session of the Congress on the State of the Union.pdf', 'page': 14, 'chunk': 2, 'source': 'DCPD-202200127 - Address Before a Joint Session of the Congress on the State of the Union.pdf-14-2'}),\n",
       "  Document(page_content='S. Capitol; Drug abuse and trafficking : Opioid epidemic, efforts to combat; Economy, national : Household income and wages; Economy, national : Improvement; Economy, national : Poverty; Economy, national : Strengthening efforts; Education : Early childhood education programs;', metadata={'name': 'DCPD-202100347 - Address Before a Joint Session of the Congress on the State of the Union.txt', 'page': 1, 'chunk': 79, 'source': 'DCPD-202100347 - Address Before a Joint Session of the Congress on the State of the Union.txt-1-79'}),\n",
       "  Document(page_content=\"It creates jobs, building a modern power grid. Our grids are vulnerable to storms, hacks, catastrophic failures, with tragic results, as we saw in Texas and elsewhere during the winter storms. The American Jobs Plan will create jobs that will lay thousands of miles of transmission lines needed to build a resilient and fully clean grid. We can do that.\\nLook, the American Jobs Plan will help millions of people get back to their jobs and back to their careers. Two million women have dropped out of the workforce during this pandemic—2 million, and too often because they couldn't get the care they needed to care for their child or care for an elderly parent who needs help.\", metadata={'name': 'DCPD-202100347 - Address Before a Joint Session of the Congress on the State of the Union.txt', 'page': 1, 'chunk': 16, 'source': 'DCPD-202100347 - Address Before a Joint Session of the Congress on the State of the Union.txt-1-16'}),\n",
       "  Document(page_content='11 many  of yours.  Provide  a pathway  to citizenship  for \"dreamers,\" those  with temporary  status,   farmworkers,  essential  workers. To revise our laws so businesses have  workers they need  and  families  don\\'t wait decades  to reunite.    It\\'s not only the right  thing  to do, it\\'s economically  smart  thing  to do. That\\'s why the  immigration  reform  is supported by everyone  from  labor  unions  to religious  leaders to the U.S.  Chamber  of Commerce . Let\\'s get it done  once  and for all.   Folks, advancing liberty  and justice  also requires protecting  the rights  of women . The  constitutional  right  affirmed  by Roe v. Wade , standing precedent  for half a century,  is under   attack  as never  before', metadata={'name': 'DCPD-202200127 - Address Before a Joint Session of the Congress on the State of the Union.pdf', 'page': 11, 'chunk': 0, 'source': 'DCPD-202200127 - Address Before a Joint Session of the Congress on the State of the Union.pdf-11-0'}),\n",
       "  Document(page_content=\"strengthening efforts; Communications : Broadband and wireless technologies; Congress : Bipartisanship; Congress : House of Representatives :: Speaker; Congress : Joint Session address, President's; Congress : Senate :: Majority leader; Congress : Senate :: Minority leader; Defense and national security : Border security; Defense and national security : Cybersecurity :: Cyber attacks; Defense, Department of : Secretary; Diseases : Cancer research, prevention, and treatment; Diseases : Coronavirus, domestic prevention efforts; District of Columbia : Civil unrest and violence at U\", metadata={'name': 'DCPD-202100347 - Address Before a Joint Session of the Congress on the State of the Union.txt', 'page': 1, 'chunk': 78, 'source': 'DCPD-202100347 - Address Before a Joint Session of the Congress on the State of the Union.txt-1-78'}),\n",
       "  Document(page_content=': Diplomatic efforts, ex pansion;  Health and Human  Services, Department of: Centers for Disease Control and Prevention ; Health and medical care :  Abortion;  Health and medical car e : Affordability and costs;  Health and medical care : Medical  equipment and supplies ; Health and medical care : Medicare and Medicaid ; Health and medical  care : Mental health programs and servic es; Health and medical  care : Prescription drugs,  affordability and costs ; Health and medical care : Research and develop ment ; Immigration and  naturaliz ation : Citizenship ; Immigration and naturalization : Reform ; Immigration and  naturalization : Refugees;  Infrastructure', metadata={'name': 'DCPD-202200127 - Address Before a Joint Session of the Congress on the State of the Union.pdf', 'page': 14, 'chunk': 4, 'source': 'DCPD-202200127 - Address Before a Joint Session of the Congress on the State of the Union.pdf-14-4'}),\n",
       "  Document(page_content='14 Subjects:  Armed Forces, U.S : Servicemembers :: Deployment ; Armed Forces, U.S. : Military  families ; Armed Forces, U.S. : Servicemembers :: Environmental exposures in war zones;   Budget, Federal : Deficit and national debt;  Business and industry : Automobile industry ::  Strengthening efforts ; Business and industry : Domestic investment, promotion efforts ; Business  and industry : Foreign investment in U.S', metadata={'name': 'DCPD-202200127 - Address Before a Joint Session of the Congress on the State of the Union.pdf', 'page': 14, 'chunk': 0, 'source': 'DCPD-202200127 - Address Before a Joint Session of the Congress on the State of the Union.pdf-14-0'}),\n",
       "  Document(page_content='Education : Global competitiveness; Education : Postsecondary education :: Community colleges; Education : Postsecondary education :: Pell grants; Education : Schools, efforts to reopen; Elections : Voter participation; Employment and unemployment : Job creation and growth; Energy : Alternative and renewable sources and technologies :: U.S. production; Energy : Hybrid and alternative fuel vehicles :: Promotion efforts; Energy : Infrastructure and grid improvements; Environment : Climate change; Environment : Lead service lines, replacement efforts; Environment : Paris Agreement; Foreign policy, U.S', metadata={'name': 'DCPD-202100347 - Address Before a Joint Session of the Congress on the State of the Union.txt', 'page': 1, 'chunk': 80, 'source': 'DCPD-202100347 - Address Before a Joint Session of the Congress on the State of the Union.txt-1-80'}),\n",
       "  Document(page_content=\"8 Let's pass the Paycheck  Fairness Act and paid leave;  raise the minimum  wage to $15 an  hour;  and extend  the child tax credit so no one has to raise a family  in poverty . Let's increase Pell  grants;  increase our historic  support  for HBCUs;  and invest  in what  Jill, our First Lady,  who  teaches full time,  calls America 's best kept secret:  community  colleges.   Look,  let's pass the PRO  Act. When  a majority  of worke rs want  to form  a union,  they  shouldn' t be able to be stopped . When  we invest  in our workers and we build  an economy  from   the bottom  up and the middle  out, together  we can do something  we haven 't done  in a long time:  build  a better  America\", metadata={'name': 'DCPD-202200127 - Address Before a Joint Session of the Congress on the State of the Union.pdf', 'page': 8, 'chunk': 0, 'source': 'DCPD-202200127 - Address Before a Joint Session of the Congress on the State of the Union.pdf-8-0'}),\n",
       "  Document(page_content='Eight hundred thousand families are on a Medicare waiting list right now to get homecare for their aging parent or loved one with a disability. If you think it\\'s not important, check out in your own district, Democrat or Republican. Democrat or Republican voters, their great concern— almost as much as their children—is taking care of an elderly loved one who can\\'t be left alone.\\nMedicaid contemplated it, but this plan is going to help those families and create jobs for our caregivers with better wages and better benefits, continuing a cycle of growth.\\nFor too long, we\\'ve failed to use the most important word when it comes to meeting the climate crisis: \"jobs.\" Jobs. Jobs. For me, when I think \"climate change,\" I think \"jobs.\"', metadata={'name': 'DCPD-202100347 - Address Before a Joint Session of the Congress on the State of the Union.txt', 'page': 1, 'chunk': 17, 'source': 'DCPD-202100347 - Address Before a Joint Session of the Congress on the State of the Union.txt-1-17'})])"
      ]
     },
     "execution_count": 8,
     "metadata": {},
     "output_type": "execute_result"
    }
   ],
   "source": [
    "index.answer(\"What are the major issues?\")"
   ]
  },
  {
   "cell_type": "code",
   "execution_count": 9,
   "id": "73a22db7",
   "metadata": {},
   "outputs": [
    {
     "data": {
      "text/plain": [
       "{'DCPD-202100347 - Address Before a Joint Session of the Congress on the State of the Union.txt',\n",
       " 'DCPD-202200127 - Address Before a Joint Session of the Congress on the State of the Union.pdf'}"
      ]
     },
     "execution_count": 9,
     "metadata": {},
     "output_type": "execute_result"
    }
   ],
   "source": [
    "index.get_file_names()"
   ]
  },
  {
   "cell_type": "code",
   "execution_count": 4,
   "id": "cb76cbdd",
   "metadata": {},
   "outputs": [
    {
     "data": {
      "text/plain": [
       "[Document(page_content='; Business and industry : Manufacturing industry ::  Advanced manufacturing, promotion efforts ; Business and industry: Competition and pricing,  improvement efforts ; Children and youth : Childcare, affordability and costs ; China : President ;  Civil rights : Firearm rights ; Civil rights : Lesbian, gay, bisexual, and transgender persons,  equality ; Civil rights : Voting rights ; Commerce, international : Global supply chain disruptions,  efforts to address;  Commerce, international : Group of Seven (G– 7) nations ; Communications :  Broadband and wireless technologies ; Congress : House of Representatives :: Speaker ; Defense  and national security : Border security ; Diseases : Cancer research, prevention, and treatment ;  Diseases : Coronavirus', metadata={'name': 'DCPD-202200127 - Address Before a Joint Session of the Congress on the State of the Union.pdf', 'page': 14, 'chunk': 1, 'source': 'DCPD-202200127 - Address Before a Joint Session of the Congress on the State of the Union.pdf-14-1'}),\n",
       " Document(page_content=\"Today, Mr. Secretary, that's less than 1 percent. China and other countries are closing in fast. We have to develop and dominate the products and technologies of the future: advanced batteries, biotechnology, computer chips, clean energy.\\nThe Secretary of Defense can tell you—and those of you on—who work on national security issues know—the Defense Department has an agency called DARPA—the Defense Advanced Research Project Agency. The people who set up before I came here—and that's been a long time ago—to develop breakthroughs that enhance our national security—that's their only job. And it's a semiseparate agency; it's under the Defense Department. It's led to everything from the discovery of the internet to GPS and so much more that's enhanced our security.\", metadata={'name': 'DCPD-202100347 - Address Before a Joint Session of the Congress on the State of the Union.txt', 'page': 1, 'chunk': 24, 'source': 'DCPD-202100347 - Address Before a Joint Session of the Congress on the State of the Union.txt-1-24'}),\n",
       " Document(page_content=\"military forces :: Deployment; Arms and munitions : Nuclear weapons and material :: Strategic Arms Reduction Treaty (START) with Russia; Asian Americans and Pacific Islanders : Hate crimes and race-based violence; Budget, Federal : Deficit and national debt; Business and industry : Domestic investment, promotion efforts; Business and industry : Small businesses, promotion efforts; China : President; Civil rights : Firearm rights; Civil rights : Lesbian, gay, bisexual, and transgender persons, equality; Civil rights : Racial equality; Civil rights : Women's rights and gender equality; Commerce, international : Free and fair trade; Commerce, international : Intellectual property law\", metadata={'name': 'DCPD-202100347 - Address Before a Joint Session of the Congress on the State of the Union.txt', 'page': 1, 'chunk': 77, 'source': 'DCPD-202100347 - Address Before a Joint Session of the Congress on the State of the Union.txt-1-77'}),\n",
       " Document(page_content='If you travel  20 miles  east of  Columbus,  Ohio,  you\\'ll find a thousand  empty  acres of land. It won\\'t look like much . But if you  stop and look closely,  you\\'ll see a \"field of dreams ,\" the ground on which  America \\'s future  will be  built. That\\'s  where Intel, the American  company  that helped  build Silicon  Valley,  is going to  build  a $20 billion  semiconductor  \"mega  site,\" up to eight  state-of -the-art factories in one place.  Ten thousand  new jobs. And in those  factories,  the average job—about  $135—$135,000  a year.   Some  of the most  sophisticated  manufacturing in the world  to make  computer  chips  the size  of a fingertip  that power  the world  and everyday  lives,  from  smartphones,  technology  that—the   internet —technology  that\\'s  yet to be invented', metadata={'name': 'DCPD-202200127 - Address Before a Joint Session of the Congress on the State of the Union.pdf', 'page': 4, 'chunk': 4, 'source': 'DCPD-202200127 - Address Before a Joint Session of the Congress on the State of the Union.pdf-4-4'}),\n",
       " Document(page_content=\"And look,  it's going to transform  America  to put us on a path to win the  economic  competition  of the 21st century  that we face with the rest of the world,  particularly   China.  I've told Xi Jinping:  It's never  been  a good bet to bet against  the American  people.   We'll create good jobs for millions  of Americans— modernizing roads,  airports,  ports,   waterways—a ll across America. And we'll do it to withstand  the devastating  effects of climate   crisis and promote  environmental  justice. We'll build  a national  network  of 500,000 electric  vehicle charging stations;  begin to replace the poisonous  lead pipes  so every  child,  every   American  has clean  water  to drink  at home  and at school\", metadata={'name': 'DCPD-202200127 - Address Before a Joint Session of the Congress on the State of the Union.pdf', 'page': 4, 'chunk': 1, 'source': 'DCPD-202200127 - Address Before a Joint Session of the Congress on the State of the Union.pdf-4-1'})]"
      ]
     },
     "execution_count": 4,
     "metadata": {},
     "output_type": "execute_result"
    }
   ],
   "source": [
    "index.search_docs(\"china\", k= 5)"
   ]
  },
  {
   "cell_type": "code",
   "execution_count": null,
   "id": "33b0468d",
   "metadata": {},
   "outputs": [],
   "source": []
  }
 ],
 "metadata": {
  "kernelspec": {
   "display_name": "Python 3 (ipykernel)",
   "language": "python",
   "name": "python3"
  },
  "language_info": {
   "codemirror_mode": {
    "name": "ipython",
    "version": 3
   },
   "file_extension": ".py",
   "mimetype": "text/x-python",
   "name": "python",
   "nbconvert_exporter": "python",
   "pygments_lexer": "ipython3",
   "version": "3.10.9"
  }
 },
 "nbformat": 4,
 "nbformat_minor": 5
}
