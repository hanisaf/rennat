{
 "cells": [
  {
   "cell_type": "code",
   "execution_count": 1,
   "id": "3718bc00",
   "metadata": {},
   "outputs": [],
   "source": [
    "import sys, os, glob\n",
    "sys.path.append(\"../\")\n",
    "import rennat\n",
    "from rennat.pipelines import *\n",
    "from rennat import utils, prompts"
   ]
  },
  {
   "cell_type": "markdown",
   "id": "94900091",
   "metadata": {},
   "source": [
    "# Step 1: index the documents and embed them\n",
    "\n",
    "once this step is done, there is no need to re-do it as long as the vector file is available to load and you can skip to step 2"
   ]
  },
  {
   "cell_type": "code",
   "execution_count": 2,
   "id": "654bfa5d",
   "metadata": {},
   "outputs": [
    {
     "name": "stdout",
     "output_type": "stream",
     "text": [
      "DCPD-202200127 - Address Before a Joint Session of the Congress on the State of the Union.pdf\n",
      "DCPD-202100347 - Address Before a Joint Session of the Congress on the State of the Union.txt\n"
     ]
    }
   ],
   "source": [
    "folder = \"state_of_the_union\"\n",
    "files = glob.glob(f\"{folder}/*.pdf\") + glob.glob(f\"{folder}/*.txt\") + glob.glob(f\"{folder}/*.docx\")\n",
    "texts = []\n",
    "for fn in files:\n",
    "    doc = parse_file(fn)\n",
    "    fn = os.path.basename(fn)\n",
    "    print(fn)\n",
    "    text = text_to_docs(doc, fn)\n",
    "    texts.extend(text)"
   ]
  },
  {
   "cell_type": "code",
   "execution_count": 3,
   "id": "f36976cb",
   "metadata": {},
   "outputs": [],
   "source": [
    "index = utils.embed_docs(texts)\n",
    "utils.save_store(index, \"state_of_the_union.index\")"
   ]
  },
  {
   "cell_type": "markdown",
   "id": "15ae449f",
   "metadata": {},
   "source": [
    "# Step 2: query the data"
   ]
  },
  {
   "cell_type": "code",
   "execution_count": 4,
   "id": "8bf828ff",
   "metadata": {},
   "outputs": [],
   "source": [
    "index = utils.load_store(\"state_of_the_union.index\")"
   ]
  },
  {
   "cell_type": "code",
   "execution_count": 5,
   "id": "cb76cbdd",
   "metadata": {},
   "outputs": [
    {
     "name": "stderr",
     "output_type": "stream",
     "text": [
      "/Users/hanisaf/anaconda3/lib/python3.10/site-packages/langchain/llms/openai.py:169: UserWarning: You are trying to use a chat model. This way of initializing it is no longer supported. Instead, please use: `from langchain.chat_models import ChatOpenAI`\n",
      "  warnings.warn(\n",
      "/Users/hanisaf/anaconda3/lib/python3.10/site-packages/langchain/llms/openai.py:696: UserWarning: You are trying to use a chat model. This way of initializing it is no longer supported. Instead, please use: `from langchain.chat_models import ChatOpenAI`\n",
      "  warnings.warn(\n"
     ]
    },
    {
     "name": "stdout",
     "output_type": "stream",
     "text": [
      "The major issues facing the United States are diverse and complex, ranging from national improvement efforts to nuclear weapons development in Iran. Labor issues such as minimum wage, paid family and sick leave, and unions are also at the forefront of discussions. Law enforcement and crime are also major concerns, with gang violence, gun control, and policing best practices being debated. Proposed legislation such as the COVID-19 Hate Crimes Act is also being considered. Immigration reform is another pressing issue that needs to be addressed. Business and industry, including manufacturing industry and competition and pricing, are also being discussed. Civil rights issues such as firearm rights, LGBT equality, voting rights, and racial and gender equality are also at the forefront of discussions. The struggle to maintain democracy and overcome division is also a pressing concern. Other issues include the deficit and national debt, domestic investment, small businesses, free and fair trade, and intellectual property law. It is clear that there are many challenges facing the United States, and it will take a concerted effort from all parties to address them effectively.\n",
      "\n",
      "FINAL ANSWER\n",
      "The major issues facing the United States are diverse and complex, ranging from national improvement efforts to nuclear weapons development in Iran. Labor issues such as minimum wage, paid family and sick leave, and unions are also at the forefront of discussions. Law enforcement and crime are also major concerns, with gang violence, gun control, and policing best practices being debated. Proposed legislation such as the COVID-19 Hate Crimes Act is also being considered. Immigration reform is another pressing issue that needs to be addressed. Business and industry, including manufacturing industry and competition and pricing, are also being discussed. Civil rights issues such as firearm rights, LGBT equality, voting rights, and racial and gender equality are also at the forefront of discussions. The struggle to maintain democracy and overcome division is also a pressing concern. Other issues include the deficit and national debt, domestic investment, small businesses, free and fair trade, and intellectual property law. It is clear that there are many challenges facing the United States, and it will take a concerted effort from all parties to address them effectively.\n",
      "\n",
      "PROVIDED SOURCES:\n",
      "DCPD-202100347 - Address Before a Joint Session of the Congress on the State of the Union.txt-1-82 national improvement efforts; Iran : Nuclear weapons development; Judiciary : Supreme Court :: Chief Justice; Labor issues : Minimum wage; Labor issues : Paid family and sick leave; Labor issues : Unions :: Labor movement and organized labor; Law enforcement and crime : Gang violence, prevention efforts; Law enforcement and crime : Gun control; Law enforcement and crime : Gun violence, prevention efforts; Law enforcement and crime : Policing best practices, improvement efforts; Legislation, proposed : COVID-19 Hate Crimes Act; Legislation, proposed\n",
      "DCPD-202100347 - Address Before a Joint Session of the Congress on the State of the Union.txt-1-63 This shouldn't be a red or blue issue. And no amendment to the Constitution is absolute. You can't yell \"Fire!\" in a crowded theater. From the very beginning, there were certain guns, weapons, that could not be owned by Americans. Certain people could not own those weapons ever. We're not changing the Constitution; we're being reasonable. I think this is not a Democrat or Republican issue, I think it's an American issue.\n",
      "And here's what else we can do: Immigration has always been essential to America. Let's end our exhausting war over immigration. For more than 30 years, politicians have talked about immigration reform, and we've done nothing about it. It's time to fix it.\n",
      "DCPD-202200127 - Address Before a Joint Session of the Congress on the State of the Union.pdf-14-1 ; Business and industry : Manufacturing industry ::  Advanced manufacturing, promotion efforts ; Business and industry: Competition and pricing,  improvement efforts ; Children and youth : Childcare, affordability and costs ; China : President ;  Civil rights : Firearm rights ; Civil rights : Lesbian, gay, bisexual, and transgender persons,  equality ; Civil rights : Voting rights ; Commerce, international : Global supply chain disruptions,  efforts to address;  Commerce, international : Group of Seven (G– 7) nations ; Communications :  Broadband and wireless technologies ; Congress : House of Representatives :: Speaker ; Defense  and national security : Border security ; Diseases : Cancer research, prevention, and treatment ;  Diseases : Coronavirus\n",
      "DCPD-202100347 - Address Before a Joint Session of the Congress on the State of the Union.txt-1-69 But the struggle is far from over. The question of whether our democracy will long endure is both ancient and urgent, as old as our Republic, still vital today. Can our democracy deliver on its promise that all of us, created equal in the image of God, have a chance to lead lives of dignity, respect, and possibility? Can our democracy deliver the most—to the most pressing needs of our people? Can our democracy overcome the lies, anger, hate, and fears that have pulled us apart?\n",
      "DCPD-202100347 - Address Before a Joint Session of the Congress on the State of the Union.txt-1-77 military forces :: Deployment; Arms and munitions : Nuclear weapons and material :: Strategic Arms Reduction Treaty (START) with Russia; Asian Americans and Pacific Islanders : Hate crimes and race-based violence; Budget, Federal : Deficit and national debt; Business and industry : Domestic investment, promotion efforts; Business and industry : Small businesses, promotion efforts; China : President; Civil rights : Firearm rights; Civil rights : Lesbian, gay, bisexual, and transgender persons, equality; Civil rights : Racial equality; Civil rights : Women's rights and gender equality; Commerce, international : Free and fair trade; Commerce, international : Intellectual property law\n"
     ]
    }
   ],
   "source": [
    "inquire(\"What are the major issues?\", index);"
   ]
  },
  {
   "cell_type": "code",
   "execution_count": 6,
   "id": "b8fb26f4",
   "metadata": {},
   "outputs": [
    {
     "name": "stdout",
     "output_type": "stream",
     "text": [
      "- National improvement efforts\n",
      "- Iran's nuclear weapons development\n",
      "- Supreme Court and Chief Justice\n",
      "- Labor issues: minimum wage, paid family and sick leave, unions, labor movement, and organized labor\n",
      "- Law enforcement and crime: gang violence, gun control, gun violence prevention, policing best practices, and improvement efforts\n",
      "- Proposed legislation: COVID-19 Hate Crimes Act\n",
      "- Immigration reform\n",
      "- Business and industry: manufacturing industry, advanced manufacturing promotion efforts, competition and pricing improvement efforts\n",
      "- Children and youth: childcare affordability and costs\n",
      "- Civil rights: firearm rights, LGBT equality, voting rights, racial equality, women's rights and gender equality\n",
      "- Commerce, international: global supply chain disruptions, efforts to address, Group of Seven (G-7) nations, free and fair trade, intellectual property law\n",
      "- Communications: broadband and wireless technologies\n",
      "- Defense and national security: border security, deployment of military forces, Strategic Arms Reduction Treaty (START) with Russia\n",
      "- Diseases: cancer research, prevention, and treatment, coronavirus\n",
      "- Budget, Federal: deficit and national debt\n",
      "- Asian Americans and Pacific Islanders: hate crimes and race-based violence\n",
      "- The question of whether our democracy will long endure and deliver on its promise to all of us, created equal in the image of God, to lead lives of dignity, respect, and possibility\n",
      "- China's president and domestic investment promotion efforts for small businesses.\n",
      "\n",
      "FINAL ANSWER\n",
      "- National improvement efforts\n",
      "- Iran's nuclear weapons development\n",
      "- Supreme Court and Chief Justice\n",
      "- Labor issues: minimum wage, paid family and sick leave, unions, labor movement, and organized labor\n",
      "- Law enforcement and crime: gang violence, gun control, gun violence prevention, policing best practices, and improvement efforts\n",
      "- Proposed legislation: COVID-19 Hate Crimes Act\n",
      "- Immigration reform\n",
      "- Business and industry: manufacturing industry, advanced manufacturing promotion efforts, competition and pricing improvement efforts\n",
      "- Children and youth: childcare affordability and costs\n",
      "- Civil rights: firearm rights, LGBT equality, voting rights, racial equality, women's rights and gender equality\n",
      "- Commerce, international: global supply chain disruptions, efforts to address, Group of Seven (G-7) nations, free and fair trade, intellectual property law\n",
      "- Communications: broadband and wireless technologies\n",
      "- Defense and national security: border security, deployment of military forces, Strategic Arms Reduction Treaty (START) with Russia\n",
      "- Diseases: cancer research, prevention, and treatment, coronavirus\n",
      "- Budget, Federal: deficit and national debt\n",
      "- Asian Americans and Pacific Islanders: hate crimes and race-based violence\n",
      "- The question of whether our democracy will long endure and deliver on its promise to all of us, created equal in the image of God, to lead lives of dignity, respect, and possibility\n",
      "- China's president and domestic investment promotion efforts for small businesses.\n",
      "\n",
      "PROVIDED SOURCES:\n",
      "DCPD-202100347 - Address Before a Joint Session of the Congress on the State of the Union.txt-1-82 national improvement efforts; Iran : Nuclear weapons development; Judiciary : Supreme Court :: Chief Justice; Labor issues : Minimum wage; Labor issues : Paid family and sick leave; Labor issues : Unions :: Labor movement and organized labor; Law enforcement and crime : Gang violence, prevention efforts; Law enforcement and crime : Gun control; Law enforcement and crime : Gun violence, prevention efforts; Law enforcement and crime : Policing best practices, improvement efforts; Legislation, proposed : COVID-19 Hate Crimes Act; Legislation, proposed\n",
      "DCPD-202100347 - Address Before a Joint Session of the Congress on the State of the Union.txt-1-63 This shouldn't be a red or blue issue. And no amendment to the Constitution is absolute. You can't yell \"Fire!\" in a crowded theater. From the very beginning, there were certain guns, weapons, that could not be owned by Americans. Certain people could not own those weapons ever. We're not changing the Constitution; we're being reasonable. I think this is not a Democrat or Republican issue, I think it's an American issue.\n",
      "And here's what else we can do: Immigration has always been essential to America. Let's end our exhausting war over immigration. For more than 30 years, politicians have talked about immigration reform, and we've done nothing about it. It's time to fix it.\n",
      "DCPD-202200127 - Address Before a Joint Session of the Congress on the State of the Union.pdf-14-1 ; Business and industry : Manufacturing industry ::  Advanced manufacturing, promotion efforts ; Business and industry: Competition and pricing,  improvement efforts ; Children and youth : Childcare, affordability and costs ; China : President ;  Civil rights : Firearm rights ; Civil rights : Lesbian, gay, bisexual, and transgender persons,  equality ; Civil rights : Voting rights ; Commerce, international : Global supply chain disruptions,  efforts to address;  Commerce, international : Group of Seven (G– 7) nations ; Communications :  Broadband and wireless technologies ; Congress : House of Representatives :: Speaker ; Defense  and national security : Border security ; Diseases : Cancer research, prevention, and treatment ;  Diseases : Coronavirus\n",
      "DCPD-202100347 - Address Before a Joint Session of the Congress on the State of the Union.txt-1-69 But the struggle is far from over. The question of whether our democracy will long endure is both ancient and urgent, as old as our Republic, still vital today. Can our democracy deliver on its promise that all of us, created equal in the image of God, have a chance to lead lives of dignity, respect, and possibility? Can our democracy deliver the most—to the most pressing needs of our people? Can our democracy overcome the lies, anger, hate, and fears that have pulled us apart?\n",
      "DCPD-202100347 - Address Before a Joint Session of the Congress on the State of the Union.txt-1-77 military forces :: Deployment; Arms and munitions : Nuclear weapons and material :: Strategic Arms Reduction Treaty (START) with Russia; Asian Americans and Pacific Islanders : Hate crimes and race-based violence; Budget, Federal : Deficit and national debt; Business and industry : Domestic investment, promotion efforts; Business and industry : Small businesses, promotion efforts; China : President; Civil rights : Firearm rights; Civil rights : Lesbian, gay, bisexual, and transgender persons, equality; Civil rights : Racial equality; Civil rights : Women's rights and gender equality; Commerce, international : Free and fair trade; Commerce, international : Intellectual property law\n"
     ]
    }
   ],
   "source": [
    "inquire(\"What are the major issues?\", index, prompt=prompts.DETAILED_PROMPT);"
   ]
  },
  {
   "cell_type": "code",
   "execution_count": 7,
   "id": "a2d5eaef",
   "metadata": {},
   "outputs": [
    {
     "name": "stdout",
     "output_type": "stream",
     "text": [
      "The major issues mentioned in the context information are: national improvement efforts, Iran's nuclear weapons development, the Supreme Court and Chief Justice, labor issues including minimum wage, paid family and sick leave, unions, and the labor movement and organized labor, law enforcement and crime including gang violence, gun control, gun violence prevention efforts, and policing best practices and improvement efforts, and proposed legislation including the COVID-19 Hate Crimes Act.The original answer remains relevant and does not need to be updated based on the new context provided. The additional information about immigration reform and the need to end the \"war over immigration\" is not directly related to the major issues mentioned in the original answer.The original answer remains relevant and does not need to be updated based on the new context provided. The additional information about immigration reform and the need to end the \"war over immigration\" is not directly related to the major issues mentioned in the original answer.Original answer: The major issues are not explicitly stated in the given context.\n",
      "\n",
      "The new context provides a broader perspective on the challenges facing American democracy. The major issues can be inferred from the questions posed in the context, which include whether democracy can deliver on its promise of equality and dignity for all, whether it can address the pressing needs of the people, and whether it can overcome the divisions caused by lies, anger, hate, and fear. These issues are complex and multifaceted, and they require sustained attention and effort from all members of society to address. \n",
      "\n",
      "Source: DCPD-202100347 - Address Before a Joint Session of the Congress on the State of the Union.txt-1-69The major issues facing American democracy include delivering on the promise of equality and dignity for all, addressing the pressing needs of the people, overcoming divisions caused by lies, anger, hate, and fear, reducing hate crimes and race-based violence against Asian Americans and Pacific Islanders, reducing the deficit and national debt, promoting domestic and small business investment, protecting civil rights for firearm rights, LGBTQ+ persons, racial equality, and women's rights, ensuring free and fair trade, and protecting intellectual property law. These issues are complex and multifaceted, and they require sustained attention and effort from all members of society to address.\n",
      "\n",
      "Sources: \n",
      "- DCPD-202100347 - Address Before a Joint Session of the Congress on the State of the Union.txt-1-69\n",
      "- DCPD-202100347 - Address Before a Joint Session of the Congress on the State of the Union.txt-1-77\n",
      "\n",
      "FINAL ANSWER:\n",
      "The major issues facing American democracy include delivering on the promise of equality and dignity for all, addressing the pressing needs of the people, overcoming divisions caused by lies, anger, hate, and fear, reducing hate crimes and race-based violence against Asian Americans and Pacific Islanders, reducing the deficit and national debt, promoting domestic and small business investment, protecting civil rights for firearm rights, LGBTQ+ persons, racial equality, and women's rights, ensuring free and fair trade, and protecting intellectual property law. These issues are complex and multifaceted, and they require sustained attention and effort from all members of society to address.\n",
      "\n",
      "Sources: \n",
      "- DCPD-202100347 - Address Before a Joint Session of the Congress on the State of the Union.txt-1-69\n",
      "- DCPD-202100347 - Address Before a Joint Session of the Congress on the State of the Union.txt-1-77\n",
      "\n",
      "PROVIDED SOURCES:\n",
      "DCPD-202100347 - Address Before a Joint Session of the Congress on the State of the Union.txt-1-82 national improvement efforts; Iran : Nuclear weapons development; Judiciary : Supreme Court :: Chief Justice; Labor issues : Minimum wage; Labor issues : Paid family and sick leave; Labor issues : Unions :: Labor movement and organized labor; Law enforcement and crime : Gang violence, prevention efforts; Law enforcement and crime : Gun control; Law enforcement and crime : Gun violence, prevention efforts; Law enforcement and crime : Policing best practices, improvement efforts; Legislation, proposed : COVID-19 Hate Crimes Act; Legislation, proposed\n",
      "DCPD-202100347 - Address Before a Joint Session of the Congress on the State of the Union.txt-1-63 This shouldn't be a red or blue issue. And no amendment to the Constitution is absolute. You can't yell \"Fire!\" in a crowded theater. From the very beginning, there were certain guns, weapons, that could not be owned by Americans. Certain people could not own those weapons ever. We're not changing the Constitution; we're being reasonable. I think this is not a Democrat or Republican issue, I think it's an American issue.\n",
      "And here's what else we can do: Immigration has always been essential to America. Let's end our exhausting war over immigration. For more than 30 years, politicians have talked about immigration reform, and we've done nothing about it. It's time to fix it.\n",
      "DCPD-202200127 - Address Before a Joint Session of the Congress on the State of the Union.pdf-14-1 ; Business and industry : Manufacturing industry ::  Advanced manufacturing, promotion efforts ; Business and industry: Competition and pricing,  improvement efforts ; Children and youth : Childcare, affordability and costs ; China : President ;  Civil rights : Firearm rights ; Civil rights : Lesbian, gay, bisexual, and transgender persons,  equality ; Civil rights : Voting rights ; Commerce, international : Global supply chain disruptions,  efforts to address;  Commerce, international : Group of Seven (G– 7) nations ; Communications :  Broadband and wireless technologies ; Congress : House of Representatives :: Speaker ; Defense  and national security : Border security ; Diseases : Cancer research, prevention, and treatment ;  Diseases : Coronavirus\n",
      "DCPD-202100347 - Address Before a Joint Session of the Congress on the State of the Union.txt-1-69 But the struggle is far from over. The question of whether our democracy will long endure is both ancient and urgent, as old as our Republic, still vital today. Can our democracy deliver on its promise that all of us, created equal in the image of God, have a chance to lead lives of dignity, respect, and possibility? Can our democracy deliver the most—to the most pressing needs of our people? Can our democracy overcome the lies, anger, hate, and fears that have pulled us apart?\n",
      "DCPD-202100347 - Address Before a Joint Session of the Congress on the State of the Union.txt-1-77 military forces :: Deployment; Arms and munitions : Nuclear weapons and material :: Strategic Arms Reduction Treaty (START) with Russia; Asian Americans and Pacific Islanders : Hate crimes and race-based violence; Budget, Federal : Deficit and national debt; Business and industry : Domestic investment, promotion efforts; Business and industry : Small businesses, promotion efforts; China : President; Civil rights : Firearm rights; Civil rights : Lesbian, gay, bisexual, and transgender persons, equality; Civil rights : Racial equality; Civil rights : Women's rights and gender equality; Commerce, international : Free and fair trade; Commerce, international : Intellectual property law\n"
     ]
    }
   ],
   "source": [
    "refine(\"What are the major issues?\", index);"
   ]
  },
  {
   "cell_type": "code",
   "execution_count": null,
   "id": "cef4d8dc",
   "metadata": {},
   "outputs": [],
   "source": []
  }
 ],
 "metadata": {
  "kernelspec": {
   "display_name": "Python 3 (ipykernel)",
   "language": "python",
   "name": "python3"
  },
  "language_info": {
   "codemirror_mode": {
    "name": "ipython",
    "version": 3
   },
   "file_extension": ".py",
   "mimetype": "text/x-python",
   "name": "python",
   "nbconvert_exporter": "python",
   "pygments_lexer": "ipython3",
   "version": "3.10.9"
  }
 },
 "nbformat": 4,
 "nbformat_minor": 5
}
