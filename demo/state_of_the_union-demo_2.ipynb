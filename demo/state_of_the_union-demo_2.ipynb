{
 "cells": [
  {
   "cell_type": "code",
   "execution_count": 1,
   "id": "1f4aa2c0",
   "metadata": {},
   "outputs": [],
   "source": [
    "%load_ext autoreload\n",
    "%autoreload 2"
   ]
  },
  {
   "cell_type": "code",
   "execution_count": 2,
   "id": "3718bc00",
   "metadata": {},
   "outputs": [],
   "source": [
    "import sys, os, glob\n",
    "sys.path.append(\"../rennat\")\n",
    "from index import Index"
   ]
  },
  {
   "cell_type": "markdown",
   "id": "94900091",
   "metadata": {},
   "source": [
    "Assuming demo 1 was run and the index exists"
   ]
  },
  {
   "cell_type": "code",
   "execution_count": 3,
   "id": "b5714233",
   "metadata": {},
   "outputs": [
    {
     "name": "stderr",
     "output_type": "stream",
     "text": [
      "No embedding_function provided, using default embedding function: DefaultEmbeddingFunction https://huggingface.co/sentence-transformers/all-MiniLM-L6-v2\n"
     ]
    }
   ],
   "source": [
    "index = Index(index_file=\"state_of_the_union_index\", collection_name=\"state_of_the_union\")"
   ]
  },
  {
   "cell_type": "code",
   "execution_count": 8,
   "id": "11c745b0",
   "metadata": {},
   "outputs": [],
   "source": [
    "sources = index.search_docs(\"China\")"
   ]
  },
  {
   "cell_type": "code",
   "execution_count": 10,
   "id": "e87b10e9",
   "metadata": {},
   "outputs": [],
   "source": [
    "sources\n",
    "doc = sources[0]"
   ]
  },
  {
   "cell_type": "code",
   "execution_count": 26,
   "id": "40ae45fb",
   "metadata": {},
   "outputs": [],
   "source": [
    "def gen_citation(doc):\n",
    "    author = doc.metadata['name'].split(' - ')[0]\n",
    "    page = doc.metadata['page']\n",
    "    citation = f\"({author}, p. {page})\"\n",
    "    return citation"
   ]
  },
  {
   "cell_type": "code",
   "execution_count": 27,
   "id": "df56f5b0",
   "metadata": {},
   "outputs": [
    {
     "data": {
      "text/plain": [
       "'(DCPD-202100347, p. 1)'"
      ]
     },
     "execution_count": 27,
     "metadata": {},
     "output_type": "execute_result"
    }
   ],
   "source": [
    "gen_citation(sources[1])"
   ]
  },
  {
   "cell_type": "code",
   "execution_count": 19,
   "id": "c45f23fd",
   "metadata": {},
   "outputs": [],
   "source": [
    "author = doc.metadata['name'].split(' - ')[0]"
   ]
  },
  {
   "cell_type": "code",
   "execution_count": 20,
   "id": "38c9bead",
   "metadata": {},
   "outputs": [],
   "source": [
    "page = doc.metadata['page']"
   ]
  },
  {
   "cell_type": "code",
   "execution_count": 22,
   "id": "6a411db3",
   "metadata": {},
   "outputs": [
    {
     "data": {
      "text/plain": [
       "'(DCPD-202200127, p. 14)'"
      ]
     },
     "execution_count": 22,
     "metadata": {},
     "output_type": "execute_result"
    }
   ],
   "source": [
    "citation = f\"({author}, p. {page})\"\n",
    "citation"
   ]
  },
  {
   "cell_type": "code",
   "execution_count": 24,
   "id": "9faa2af0",
   "metadata": {},
   "outputs": [
    {
     "data": {
      "text/plain": [
       "'Source : (DCPD-202200127, p. 14); Business and industry : Manufacturing industry ::  Advanced manufacturing, promotion efforts ; Business and industry: Competition and pricing,  improvement efforts ; Children and youth : Childcare, affordability and costs ; China : President ;  Civil rights : Firearm rights ; Civil rights : Lesbian, gay, bisexual, and transgender persons,  equality ; Civil rights : Voting rights ; Commerce, international : Global supply chain disruptions,  efforts to address;  Commerce, international : Group of Seven (G– 7) nations ; Communications :  Broadband and wireless technologies ; Congress : House of Representatives :: Speaker ; Defense  and national security : Border security ; Diseases : Cancer research, prevention, and treatment ;  Diseases : Coronavirus'"
      ]
     },
     "execution_count": 24,
     "metadata": {},
     "output_type": "execute_result"
    }
   ],
   "source": [
    "f\"Source citation: {citation}:\" + doc.page_content"
   ]
  },
  {
   "cell_type": "code",
   "execution_count": 34,
   "id": "33b0468d",
   "metadata": {
    "scrolled": false
   },
   "outputs": [
    {
     "name": "stdout",
     "output_type": "stream",
     "text": [
      "\n",
      "\n",
      "\u001b[1m> Entering new MapReduceDocumentsChain chain...\u001b[0m\n",
      "\n",
      "\n",
      "\u001b[1m> Entering new LLMChain chain...\u001b[0m\n",
      "Prompt after formatting:\n",
      "\u001b[32;1m\u001b[1;3mWrite a concise summary of the following and put the source citation at the end:\n",
      "\n",
      "\n",
      "\"Source citation: (DCPD-202200127, p. 14):; Business and industry : Manufacturing industry ::  Advanced manufacturing, promotion efforts ; Business and industry: Competition and pricing,  improvement efforts ; Children and youth : Childcare, affordability and costs ; China : President ;  Civil rights : Firearm rights ; Civil rights : Lesbian, gay, bisexual, and transgender persons,  equality ; Civil rights : Voting rights ; Commerce, international : Global supply chain disruptions,  efforts to address;  Commerce, international : Group of Seven (G– 7) nations ; Communications :  Broadband and wireless technologies ; Congress : House of Representatives :: Speaker ; Defense  and national security : Border security ; Diseases : Cancer research, prevention, and treatment ;  Diseases : Coronavirus\"\n",
      "\n",
      "CONCISE SUMMARY:\n",
      "\u001b[0m\n",
      "Prompt after formatting:\n",
      "\u001b[32;1m\u001b[1;3mWrite a concise summary of the following and put the source citation at the end:\n",
      "\n",
      "\n",
      "\"Source citation: (DCPD-202100347, p. 1):Today, Mr. Secretary, that's less than 1 percent. China and other countries are closing in fast. We have to develop and dominate the products and technologies of the future: advanced batteries, biotechnology, computer chips, clean energy.\n",
      "The Secretary of Defense can tell you—and those of you on—who work on national security issues know—the Defense Department has an agency called DARPA—the Defense Advanced Research Project Agency. The people who set up before I came here—and that's been a long time ago—to develop breakthroughs that enhance our national security—that's their only job. And it's a semiseparate agency; it's under the Defense Department. It's led to everything from the discovery of the internet to GPS and so much more that's enhanced our security.\"\n",
      "\n",
      "CONCISE SUMMARY:\n",
      "\u001b[0m\n",
      "Prompt after formatting:\n",
      "\u001b[32;1m\u001b[1;3mWrite a concise summary of the following and put the source citation at the end:\n",
      "\n",
      "\n",
      "\"Source citation: (DCPD-202100347, p. 1):military forces :: Deployment; Arms and munitions : Nuclear weapons and material :: Strategic Arms Reduction Treaty (START) with Russia; Asian Americans and Pacific Islanders : Hate crimes and race-based violence; Budget, Federal : Deficit and national debt; Business and industry : Domestic investment, promotion efforts; Business and industry : Small businesses, promotion efforts; China : President; Civil rights : Firearm rights; Civil rights : Lesbian, gay, bisexual, and transgender persons, equality; Civil rights : Racial equality; Civil rights : Women's rights and gender equality; Commerce, international : Free and fair trade; Commerce, international : Intellectual property law\"\n",
      "\n",
      "CONCISE SUMMARY:\n",
      "\u001b[0m\n",
      "Prompt after formatting:\n",
      "\u001b[32;1m\u001b[1;3mWrite a concise summary of the following and put the source citation at the end:\n",
      "\n",
      "\n",
      "\"Source citation: (DCPD-202200127, p. 4):If you travel  20 miles  east of  Columbus,  Ohio,  you'll find a thousand  empty  acres of land. It won't look like much . But if you  stop and look closely,  you'll see a \"field of dreams ,\" the ground on which  America 's future  will be  built. That's  where Intel, the American  company  that helped  build Silicon  Valley,  is going to  build  a $20 billion  semiconductor  \"mega  site,\" up to eight  state-of -the-art factories in one place.  Ten thousand  new jobs. And in those  factories,  the average job—about  $135—$135,000  a year.   Some  of the most  sophisticated  manufacturing in the world  to make  computer  chips  the size  of a fingertip  that power  the world  and everyday  lives,  from  smartphones,  technology  that—the   internet —technology  that's  yet to be invented\"\n",
      "\n",
      "CONCISE SUMMARY:\n",
      "\u001b[0m\n",
      "Prompt after formatting:\n",
      "\u001b[32;1m\u001b[1;3mWrite a concise summary of the following and put the source citation at the end:\n",
      "\n",
      "\n",
      "\"Source citation: (DCPD-202200127, p. 4):And look,  it's going to transform  America  to put us on a path to win the  economic  competition  of the 21st century  that we face with the rest of the world,  particularly   China.  I've told Xi Jinping:  It's never  been  a good bet to bet against  the American  people.   We'll create good jobs for millions  of Americans— modernizing roads,  airports,  ports,   waterways—a ll across America. And we'll do it to withstand  the devastating  effects of climate   crisis and promote  environmental  justice. We'll build  a national  network  of 500,000 electric  vehicle charging stations;  begin to replace the poisonous  lead pipes  so every  child,  every   American  has clean  water  to drink  at home  and at school\"\n",
      "\n",
      "CONCISE SUMMARY:\n",
      "\u001b[0m\n",
      "The document covers various topics including advanced manufacturing promotion, competition and pricing improvement, childcare affordability, China's president, firearm rights, LGBT equality, voting rights, global supply chain disruptions, G-7 nations, broadband and wireless technologies, the Speaker of the House of Representatives, border security, cancer research, prevention and treatment, and coronavirus. \n",
      "\n",
      "Source citation: (DCPD-202200127, p. 14)President Biden emphasized the need for the US to develop and dominate future technologies such as advanced batteries, biotechnology, computer chips, and clean energy, as China and other countries are closing in fast. He highlighted the Defense Advanced Research Project Agency (DARPA) as a semiseparate agency under the Defense Department that has led to breakthroughs enhancing national security, including the discovery of the internet and GPS. (DCPD-202100347, p. 1)The White House released a document outlining various topics including military deployment, nuclear weapons reduction treaty with Russia, hate crimes against Asian Americans and Pacific Islanders, federal budget deficit, domestic and small business promotion efforts, firearm rights, equality for LGBTQ+ individuals and racial and gender equality, free and fair trade, and intellectual property law. (Source: DCPD-202100347, p. 1)Intel is planning to build a $20 billion semiconductor \"mega site\" with up to eight state-of-the-art factories in Columbus, Ohio, which will create 10,000 new jobs with an average salary of $135,000 per year. The factories will produce computer chips that power everyday technology, including smartphones and the internet. (Source: DCPD-202200127, p. 4)President Biden's infrastructure plan aims to modernize America's infrastructure to compete economically with China and create millions of jobs while promoting environmental justice. The plan includes building a national network of electric vehicle charging stations and replacing lead pipes for clean water. (Source: DCPD-202200127, p. 4)\n",
      "\u001b[1m> Finished chain.\u001b[0m\n",
      "\n",
      "\n",
      "\u001b[1m> Entering new StuffDocumentsChain chain...\u001b[0m\n",
      "\n",
      "\n",
      "\u001b[1m> Entering new LLMChain chain...\u001b[0m\n",
      "Prompt after formatting:\n",
      "\u001b[32;1m\u001b[1;3mWrite a concise summary of the following and include all source citations verbatim:\n",
      "\n",
      "\n",
      "\"The document covers various topics including advanced manufacturing promotion, competition and pricing improvement, childcare affordability, China's president, firearm rights, LGBT equality, voting rights, global supply chain disruptions, G-7 nations, broadband and wireless technologies, the Speaker of the House of Representatives, border security, cancer research, prevention and treatment, and coronavirus. \n",
      "\n",
      "Source citation: (DCPD-202200127, p. 14)\n",
      "\n",
      "President Biden emphasized the need for the US to develop and dominate future technologies such as advanced batteries, biotechnology, computer chips, and clean energy, as China and other countries are closing in fast. He highlighted the Defense Advanced Research Project Agency (DARPA) as a semiseparate agency under the Defense Department that has led to breakthroughs enhancing national security, including the discovery of the internet and GPS. (DCPD-202100347, p. 1)\n",
      "\n",
      "The White House released a document outlining various topics including military deployment, nuclear weapons reduction treaty with Russia, hate crimes against Asian Americans and Pacific Islanders, federal budget deficit, domestic and small business promotion efforts, firearm rights, equality for LGBTQ+ individuals and racial and gender equality, free and fair trade, and intellectual property law. (Source: DCPD-202100347, p. 1)\n",
      "\n",
      "Intel is planning to build a $20 billion semiconductor \"mega site\" with up to eight state-of-the-art factories in Columbus, Ohio, which will create 10,000 new jobs with an average salary of $135,000 per year. The factories will produce computer chips that power everyday technology, including smartphones and the internet. (Source: DCPD-202200127, p. 4)\n",
      "\n",
      "President Biden's infrastructure plan aims to modernize America's infrastructure to compete economically with China and create millions of jobs while promoting environmental justice. The plan includes building a national network of electric vehicle charging stations and replacing lead pipes for clean water. (Source: DCPD-202200127, p. 4)\"\n",
      "\n",
      "CONCISE SUMMARY:\n",
      "\u001b[0m\n"
     ]
    },
    {
     "name": "stdout",
     "output_type": "stream",
     "text": [
      "The White House has released documents covering various topics such as advanced manufacturing, competition, childcare, firearm rights, LGBT equality, voting rights, global supply chain disruptions, and coronavirus. President Biden emphasized the need for the US to develop and dominate future technologies, and Intel is planning to build a $20 billion semiconductor \"mega site\" in Ohio. The President's infrastructure plan aims to modernize America's infrastructure and create millions of jobs while promoting environmental justice. (Sources: DCPD-202100347, DCPD-202200127)\n",
      "\u001b[1m> Finished chain.\u001b[0m\n",
      "\n",
      "\u001b[1m> Finished chain.\u001b[0m\n",
      "\n",
      "\u001b[1m> Finished chain.\u001b[0m\n"
     ]
    },
    {
     "data": {
      "text/plain": [
       "'The White House has released documents covering various topics such as advanced manufacturing, competition, childcare, firearm rights, LGBT equality, voting rights, global supply chain disruptions, and coronavirus. President Biden emphasized the need for the US to develop and dominate future technologies, and Intel is planning to build a $20 billion semiconductor \"mega site\" in Ohio. The President\\'s infrastructure plan aims to modernize America\\'s infrastructure and create millions of jobs while promoting environmental justice. (Sources: DCPD-202100347, DCPD-202200127)'"
      ]
     },
     "execution_count": 34,
     "metadata": {},
     "output_type": "execute_result"
    }
   ],
   "source": [
    "index.synthesize(\"China\", None, verbose=True)"
   ]
  },
  {
   "cell_type": "code",
   "execution_count": null,
   "id": "ba15424c",
   "metadata": {},
   "outputs": [],
   "source": []
  }
 ],
 "metadata": {
  "kernelspec": {
   "display_name": "Python 3 (ipykernel)",
   "language": "python",
   "name": "python3"
  },
  "language_info": {
   "codemirror_mode": {
    "name": "ipython",
    "version": 3
   },
   "file_extension": ".py",
   "mimetype": "text/x-python",
   "name": "python",
   "nbconvert_exporter": "python",
   "pygments_lexer": "ipython3",
   "version": "3.10.9"
  }
 },
 "nbformat": 4,
 "nbformat_minor": 5
}
